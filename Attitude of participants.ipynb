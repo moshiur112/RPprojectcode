{
 "cells": [
  {
   "cell_type": "code",
   "execution_count": null,
   "metadata": {},
   "outputs": [],
   "source": [
    "from scipy import stats\n",
    "from scipy.stats import norm\n",
    "import numpy as np\n",
    "from matplotlib import pyplot as plt\n",
    "plt.title(\"Attitude of participants towards the binary-choice and the four-choice survey formats\")  \n",
    "data_1 = [39,30,44]\n",
    "data_2 = [15,24,10]\n",
    "r1 = np.arange(len(data_1))\n",
    "r2 = [x + 0.3 for x in r1]\n",
    "plt.bar(r1, data_1, width = 0.3, label='BC format')\n",
    "plt.bar(r2, data_2, width = 0.3, label='FC format')\n",
    "plt.xticks([r + 0.3 for r in range(len(data_1))], [\"Format preference\", \"More effective to accurately express image choices\", \"Less laborious and easier to work with\"])\n",
    "plt.ylabel('Number of Votes')\n",
    "plt.rcParams[\"figure.figsize\"] = (12,5)\n",
    "\n",
    "plt.legend()\n",
    "plt.show()"
   ]
  }
 ],
 "metadata": {
  "kernelspec": {
   "display_name": "Python 3",
   "language": "python",
   "name": "python3"
  },
  "language_info": {
   "codemirror_mode": {
    "name": "ipython",
    "version": 3
   },
   "file_extension": ".py",
   "mimetype": "text/x-python",
   "name": "python",
   "nbconvert_exporter": "python",
   "pygments_lexer": "ipython3",
   "version": "3.8.3"
  }
 },
 "nbformat": 4,
 "nbformat_minor": 4
}
