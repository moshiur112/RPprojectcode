{
 "cells": [
  {
   "cell_type": "code",
   "execution_count": null,
   "metadata": {},
   "outputs": [],
   "source": [
    "from scipy import stats\n",
    "from scipy.stats import norm\n",
    "import numpy as np\n",
    "from matplotlib import pyplot as plt\n",
    "plt.title(\"Image count and the number of images shown of different GANs for the FC1, FC2, BC1 and BC2 surveys\")  \n",
    "data_1 = [155, 598, 723, 892]\n",
    "data_2 = [2368,2368,2368,2368]\n",
    "data_3 = [63,278,358,453]\n",
    "data_4 = [1152,1152,1152,1152]\n",
    "data_5 = [310,472,643,617]\n",
    "data_6 = [1024,1024,1024,1024,]\n",
    "data_7 = [239,631,796,894]\n",
    "data_8 = [1280,1280,1280,1280]\n",
    "\n",
    "data = [data_1,\n",
    "       data_2,\n",
    "       data_3,\n",
    "       data_4,\n",
    "       data_5,\n",
    "       data_6,\n",
    "       data_7,\n",
    "       data_8]\n",
    "\n",
    "\n",
    "\n",
    "\n",
    "widthc = 0.10\n",
    "\n",
    "r1 = np.arange(len(data_1))\n",
    "r2 = [x + widthc for x in r1]\n",
    "r3 = [x + widthc * 2 for x in r1]\n",
    "r4 = [x + widthc* 3 for x in r1]\n",
    "r5 = [x + widthc* 4 for x in r1]\n",
    "r6 = [x + widthc* 5 for x in r1]\n",
    "r7 = [x + widthc* 6 for x in r1]\n",
    "r8 = [x + widthc* 7 for x in r1]\n",
    "\n",
    "\n",
    "plt.bar(r1, data_1, width = widthc, label='FC1 count')\n",
    "plt.bar(r2, data_2, width = widthc, label='FC1 shown')\n",
    "plt.bar(r3, data_3, width = widthc, label='FC2 count')\n",
    "plt.bar(r4, data_4, width = widthc, label='FC2 shown')\n",
    "plt.bar(r5, data_5, width = widthc, label='BC1 count')\n",
    "plt.bar(r6, data_6, width = widthc, label='BC1 shown')\n",
    "plt.bar(r7, data_7, width = widthc, label='BC2 count')\n",
    "plt.bar(r8, data_8, width = widthc, label='BC2 shown')\n",
    "\n",
    "\n",
    "plt.xticks([r + widthc for r in range(len(data_1))], [\"TCDNE\", \"Satellite\", \"Baseline\", \"GAN250\"])\n",
    "plt.ylabel('Number of Images')\n",
    "plt.rcParams[\"figure.figsize\"] = (20,8)\n",
    "\n",
    "plt.legend()\n",
    "plt.show()"
   ]
  }
 ],
 "metadata": {
  "kernelspec": {
   "display_name": "Python 3",
   "language": "python",
   "name": "python3"
  },
  "language_info": {
   "codemirror_mode": {
    "name": "ipython",
    "version": 3
   },
   "file_extension": ".py",
   "mimetype": "text/x-python",
   "name": "python",
   "nbconvert_exporter": "python",
   "pygments_lexer": "ipython3",
   "version": "3.8.3"
  }
 },
 "nbformat": 4,
 "nbformat_minor": 4
}
